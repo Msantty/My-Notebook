{
 "cells": [
  {
   "cell_type": "markdown",
   "id": "44f87a65",
   "metadata": {},
   "source": [
    "# Data Science Tools and Ecosystem"
   ]
  },
  {
   "cell_type": "markdown",
   "id": "9933d134",
   "metadata": {},
   "source": [
    "In this notebook, Data Science Tools and Ecosystem are summarized"
   ]
  },
  {
   "cell_type": "markdown",
   "id": "693ebbc6",
   "metadata": {},
   "source": [
    "Some of the popular languages that Data Scientists use are:\n",
    "    (python - R - Java - Julia)"
   ]
  },
  {
   "cell_type": "markdown",
   "id": "090a4ee5",
   "metadata": {},
   "source": [
    "Some of the commonly used libraries used by Data Scientists include:\n",
    "(numpy - scipy - matplotlib - tensorflow)"
   ]
  },
  {
   "cell_type": "markdown",
   "id": "11c1a5e4",
   "metadata": {},
   "source": [
    "Data Science Tools\n",
    "MySQL\n",
    "PostgreSQL\n",
    "Apache CouchDB"
   ]
  },
  {
   "cell_type": "markdown",
   "id": "a301a375",
   "metadata": {},
   "source": [
    "# Below are a few examples of evaluating arithmetic expressions in Python"
   ]
  },
  {
   "cell_type": "code",
   "execution_count": 1,
   "id": "b1a6bbf1",
   "metadata": {},
   "outputs": [
    {
     "data": {
      "text/plain": [
       "17"
      ]
     },
     "execution_count": 1,
     "metadata": {},
     "output_type": "execute_result"
    }
   ],
   "source": [
    "(3*4)+5"
   ]
  },
  {
   "cell_type": "code",
   "execution_count": 2,
   "id": "e6385dbb",
   "metadata": {},
   "outputs": [],
   "source": [
    "#This a simple arithmetic expression to mutiply then add integers#"
   ]
  },
  {
   "cell_type": "code",
   "execution_count": 3,
   "id": "bb444cec",
   "metadata": {},
   "outputs": [
    {
     "data": {
      "text/plain": [
       "3.3333333333333335"
      ]
     },
     "execution_count": 3,
     "metadata": {},
     "output_type": "execute_result"
    }
   ],
   "source": [
    "# Convert minutes to hours#\n",
    "\n",
    "200/60"
   ]
  },
  {
   "cell_type": "markdown",
   "id": "e9edeadc",
   "metadata": {},
   "source": [
    "The objectives are:\n",
    "\n",
    "Create markdown cell with title of the notebook\n",
    "Create a markdown cell for an introduction\n",
    "Create a markdown cell to list data science languages\n",
    "Create a markdown cell to list data science libraries\n",
    "Create a markdown cell with a table of Data Science tools\n",
    "Create a markdown cell introducing arithmetic expression examples\n",
    "Create a code cell to multiply and add numbers\n",
    "Create a code cell to convert minutes to hours"
   ]
  },
  {
   "cell_type": "markdown",
   "id": "87aa1d48",
   "metadata": {},
   "source": [
    "# Author's name\n",
    "   Mohamed El Santty"
   ]
  },
  {
   "cell_type": "code",
   "execution_count": null,
   "id": "3ef75561",
   "metadata": {},
   "outputs": [],
   "source": []
  }
 ],
 "metadata": {
  "kernelspec": {
   "display_name": "Python 3 (ipykernel)",
   "language": "python",
   "name": "python3"
  },
  "language_info": {
   "codemirror_mode": {
    "name": "ipython",
    "version": 3
   },
   "file_extension": ".py",
   "mimetype": "text/x-python",
   "name": "python",
   "nbconvert_exporter": "python",
   "pygments_lexer": "ipython3",
   "version": "3.11.5"
  }
 },
 "nbformat": 4,
 "nbformat_minor": 5
}
